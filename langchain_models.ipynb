{
 "cells": [
  {
   "cell_type": "markdown",
   "metadata": {},
   "source": [
    "# Langchain Models\n"
   ]
  },
  {
   "cell_type": "code",
   "execution_count": null,
   "metadata": {},
   "outputs": [],
   "source": [
    "import os\n",
    "from dotenv import dotenv_values\n",
    "\n",
    "env = dotenv_values(\".env\")\n",
    "\n",
    "OPENAI_API_KEY = env.get(\"OPENAI_API_KEY\")\n",
    "os.environ[\"OPENAI_API_KEY\"] = OPENAI_API_KEY"
   ]
  },
  {
   "cell_type": "markdown",
   "metadata": {},
   "source": [
    "## 1. ChatOpenAI\n",
    "\n",
    "Doc Link: [ChatOpenAI](https://python.langchain.com/api_reference/openai/chat_models/langchain_openai.chat_models.base.ChatOpenAI.html#chatopenai)\n"
   ]
  },
  {
   "cell_type": "code",
   "execution_count": 1,
   "metadata": {},
   "outputs": [
    {
     "data": {
      "text/plain": [
       "AIMessage(content=\"LangChain is a framework designed to simplify the development of applications that utilize language models, enabling developers to build more complex and powerful applications leveraging natural language processing (NLP). It allows for the orchestration of various components that can interact with language models (like OpenAI's GPT or other Transformers) and can integrate different sources of data, APIs, and other services.\\n\\nKey features of LangChain include:\\n\\n1. **Modular Design**: LangChain allows developers to break applications into components such as text processing, interaction with language models, and retrieval systems, making it easier to manage and update different parts of the application.\\n\\n2. **Memory and State Management**: It can maintain context and memory over interactions, enabling applications to provide more personalized and context-aware responses.\\n\\n3. **Integration with External Sources**: LangChain supports integration with databases, APIs, and other data sources, allowing applications to pull in more information for generating responses or completing tasks.\\n\\n4. **Use Cases**: LangChain can be employed in a variety of applications, including chatbots, automated content generation, data analysis tools, and any other system that requires understanding and generating human language.\\n\\n5. **Ecosystem and Community**: As an open-source project, LangChain has an active community and continues to evolve, offering new features and improvements that developers can leverage in their projects.\\n\\nOverall, LangChain is an effective tool for developers looking to harness the power of language models in innovative and scalable ways.\", additional_kwargs={'refusal': None}, response_metadata={'token_usage': {'completion_tokens': 297, 'prompt_tokens': 12, 'total_tokens': 309, 'completion_tokens_details': {'accepted_prediction_tokens': 0, 'audio_tokens': 0, 'reasoning_tokens': 0, 'rejected_prediction_tokens': 0}, 'prompt_tokens_details': {'audio_tokens': 0, 'cached_tokens': 0}}, 'model_name': 'gpt-4o-mini-2024-07-18', 'system_fingerprint': 'fp_72ed7ab54c', 'finish_reason': 'stop', 'logprobs': None}, id='run-dc8bd5a5-515d-43fb-ab2b-ea8eaee8b175-0', usage_metadata={'input_tokens': 12, 'output_tokens': 297, 'total_tokens': 309, 'input_token_details': {'audio': 0, 'cache_read': 0}, 'output_token_details': {'audio': 0, 'reasoning': 0}})"
      ]
     },
     "execution_count": 1,
     "metadata": {},
     "output_type": "execute_result"
    }
   ],
   "source": [
    "from langchain_openai import ChatOpenAI\n",
    "\n",
    "llm = ChatOpenAI(model=\"gpt-4o-mini\")\n",
    "llm.invoke(\"What is langchain?\")"
   ]
  },
  {
   "cell_type": "markdown",
   "metadata": {},
   "source": [
    "## 2. OpenAI\n",
    "\n",
    "Doc Link: [OpenAI](https://python.langchain.com/api_reference/openai/llms/langchain_openai.llms.base.OpenAI.html#openai)\n"
   ]
  },
  {
   "cell_type": "code",
   "execution_count": 4,
   "metadata": {},
   "outputs": [
    {
     "data": {
      "text/plain": [
       "'\\n\\nLangchain is a decentralized platform that uses blockchain technology to facilitate language learning and communication between users from different parts of the world. It allows users to connect with native speakers of the language they are learning, access learning materials, and earn rewards for their progress. The platform also utilizes smart contracts to ensure secure and transparent transactions between users.'"
      ]
     },
     "execution_count": 4,
     "metadata": {},
     "output_type": "execute_result"
    }
   ],
   "source": [
    "from langchain_openai import OpenAI\n",
    "\n",
    "llm = OpenAI(\n",
    "    model=\"gpt-3.5-turbo-instruct\",\n",
    "    temperature=0.3,\n",
    "    max_retries=2,\n",
    ")\n",
    "llm.invoke(\"What is langchain?\")"
   ]
  }
 ],
 "metadata": {
  "kernelspec": {
   "display_name": "Python 3",
   "language": "python",
   "name": "python3"
  },
  "language_info": {
   "codemirror_mode": {
    "name": "ipython",
    "version": 3
   },
   "file_extension": ".py",
   "mimetype": "text/x-python",
   "name": "python",
   "nbconvert_exporter": "python",
   "pygments_lexer": "ipython3",
   "version": "3.11.11"
  }
 },
 "nbformat": 4,
 "nbformat_minor": 2
}
