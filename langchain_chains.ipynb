{
 "cells": [
  {
   "cell_type": "markdown",
   "metadata": {},
   "source": [
    "# Langchain Chains\n"
   ]
  },
  {
   "cell_type": "code",
   "execution_count": 1,
   "metadata": {},
   "outputs": [],
   "source": [
    "import os\n",
    "from dotenv import dotenv_values\n",
    "\n",
    "env = dotenv_values(\".env\")\n",
    "\n",
    "OPENAI_API_KEY = env.get(\"OPENAI_API_KEY\")\n",
    "os.environ[\"OPENAI_API_KEY\"] = OPENAI_API_KEY"
   ]
  },
  {
   "cell_type": "markdown",
   "metadata": {},
   "source": [
    "## Chain 1\n",
    "\n",
    "A basic LangChain setup where a prompt template is used with a language model to generate a joke based on a given topic.\n"
   ]
  },
  {
   "cell_type": "code",
   "execution_count": 4,
   "metadata": {},
   "outputs": [
    {
     "data": {
      "text/plain": [
       "AIMessage(content='Why did the Apple go to school?\\n\\nBecause it wanted to be a little smarter! 🍏📚', additional_kwargs={'refusal': None}, response_metadata={'token_usage': {'completion_tokens': 22, 'prompt_tokens': 13, 'total_tokens': 35, 'completion_tokens_details': {'accepted_prediction_tokens': 0, 'audio_tokens': 0, 'reasoning_tokens': 0, 'rejected_prediction_tokens': 0}, 'prompt_tokens_details': {'audio_tokens': 0, 'cached_tokens': 0}}, 'model_name': 'gpt-4o-mini-2024-07-18', 'system_fingerprint': 'fp_72ed7ab54c', 'finish_reason': 'stop', 'logprobs': None}, id='run-80512747-c4a7-45d0-b1d1-75de48804b04-0', usage_metadata={'input_tokens': 13, 'output_tokens': 22, 'total_tokens': 35, 'input_token_details': {'audio': 0, 'cache_read': 0}, 'output_token_details': {'audio': 0, 'reasoning': 0}})"
      ]
     },
     "execution_count": 4,
     "metadata": {},
     "output_type": "execute_result"
    }
   ],
   "source": [
    "from langchain_openai import ChatOpenAI\n",
    "from langchain_core.prompts import PromptTemplate\n",
    "\n",
    "\n",
    "llm = ChatOpenAI(model=\"gpt-4o-mini\")\n",
    "prompt = PromptTemplate.from_template(\"Tell me a joke about {topic}\")\n",
    "\n",
    "chain = prompt | llm\n",
    "chain.invoke({\"topic\": \"Apple\"})"
   ]
  },
  {
   "cell_type": "markdown",
   "metadata": {},
   "source": [
    "## Chain 2\n",
    "\n",
    "A LangChain setup with a chat-based prompt that guides the model to provide a solution for a given topic.\n"
   ]
  },
  {
   "cell_type": "code",
   "execution_count": 2,
   "metadata": {},
   "outputs": [
    {
     "data": {
      "text/plain": [
       "AIMessage(content='Absolutely! To help you create a LangChain chain for a LeetCode problem, we need to first clarify a few things:\\n\\n1. **Problem Description**: Please provide the specifics of the LeetCode problem you want to solve. This includes the problem statement, constraints, and any examples provided.\\n\\n2. **Desired Language/Framework**: Let me know if you have a preferred programming language (Python, JavaScript, etc.) or specific libraries you want to use along with LangChain.\\n\\n3. **Functionality**: Specify what you want the chain to do. Do you want the chain to generate Python code that solves the problem, test the solution, or explain the problem and its solution? \\n\\nOnce you provide that information, I can help craft a suitable LangChain chain tailored to your needs!', additional_kwargs={'refusal': None}, response_metadata={'token_usage': {'completion_tokens': 164, 'prompt_tokens': 27, 'total_tokens': 191, 'completion_tokens_details': {'accepted_prediction_tokens': 0, 'audio_tokens': 0, 'reasoning_tokens': 0, 'rejected_prediction_tokens': 0}, 'prompt_tokens_details': {'audio_tokens': 0, 'cached_tokens': 0}}, 'model_name': 'gpt-4o-mini-2024-07-18', 'system_fingerprint': 'fp_72ed7ab54c', 'finish_reason': 'stop', 'logprobs': None}, id='run-e2f2fa4d-38b2-4522-8557-91d347e9c942-0', usage_metadata={'input_tokens': 27, 'output_tokens': 164, 'total_tokens': 191, 'input_token_details': {'audio': 0, 'cache_read': 0}, 'output_token_details': {'audio': 0, 'reasoning': 0}})"
      ]
     },
     "execution_count": 2,
     "metadata": {},
     "output_type": "execute_result"
    }
   ],
   "source": [
    "from langchain_openai import ChatOpenAI\n",
    "from langchain_core.prompts import ChatPromptTemplate\n",
    "\n",
    "\n",
    "llm = ChatOpenAI(model=\"gpt-4o-mini\")\n",
    "prompt = ChatPromptTemplate.from_messages(\n",
    "    [\n",
    "        (\"system\", \"You are langchain expert\"),\n",
    "        (\"human\", \"Help me write a langchain chain for {topic}\"),\n",
    "    ]\n",
    ")\n",
    "\n",
    "\n",
    "chain = prompt | llm\n",
    "chain.invoke({\"topic\": \"Leetcode problem\"})"
   ]
  },
  {
   "cell_type": "markdown",
   "metadata": {},
   "source": [
    "## Chain 3\n",
    "\n",
    "A LangChain setup that uses a chat-based prompt alongside a RunnablePassthrough to pass the output of the model directly for further processing or chaining.\n"
   ]
  },
  {
   "cell_type": "code",
   "execution_count": 3,
   "metadata": {},
   "outputs": [
    {
     "data": {
      "text/plain": [
       "{'prompt': ChatPromptValue(messages=[SystemMessage(content='You are langchain expert', additional_kwargs={}, response_metadata={}), HumanMessage(content='Help me write a langchain chain for Leetcode problem', additional_kwargs={}, response_metadata={})])}"
      ]
     },
     "execution_count": 3,
     "metadata": {},
     "output_type": "execute_result"
    }
   ],
   "source": [
    "from langchain_core.prompts import ChatPromptTemplate\n",
    "from langchain_core.runnables import RunnablePassthrough\n",
    "\n",
    "\n",
    "prompt = ChatPromptTemplate.from_messages(\n",
    "    [\n",
    "        (\"system\", \"You are langchain expert\"),\n",
    "        (\"human\", \"Help me write a langchain chain for {topic}\"),\n",
    "    ]\n",
    ")\n",
    "\n",
    "chain = prompt | {\"prompt\": RunnablePassthrough()}\n",
    "chain.invoke({\"topic\": \"Leetcode problem\"})"
   ]
  },
  {
   "cell_type": "markdown",
   "metadata": {},
   "source": [
    "## Chain 4\n"
   ]
  },
  {
   "cell_type": "code",
   "execution_count": null,
   "metadata": {},
   "outputs": [
    {
     "data": {
      "text/plain": [
       "\"Coding, also known as programming, is the process of creating instructions that a computer can execute. It involves writing code in various programming languages, which can be used to develop software applications, websites, games, and more. Learning to code can enhance problem-solving skills and is increasingly valuable in various fields, such as data science, web development, artificial intelligence, and automation.\\n\\n### Benefits of Learning to Code:\\n1. **Problem-Solving Skills**: Enhances logical thinking and analytical abilities.\\n2. **Career Opportunities**: High demand for coders in many industries.\\n3. **Creativity**: Offers a platform to create and bring ideas to life.\\n4. **Automation**: Helps automate repetitive tasks and improve efficiency.\\n5. **Collaboration**: Programming often involves teamwork and collaboration skills.\\n\\n### Resources for Learning to Code:\\nHere are five valuable resources to help you get started with coding:\\n\\n1. **Codecademy**  \\n   - Website: [codecademy.com](https://www.codecademy.com)\\n   - Description: An interactive platform offering free coding classes in various programming languages, including Python, JavaScript, HTML/CSS, and more.\\n\\n2. **freeCodeCamp**  \\n   - Website: [freecodecamp.org](https://www.freecodecamp.org)\\n   - Description: A nonprofit organization offering free coding lessons and projects. It covers web development, JavaScript algorithms, and responsive web design.\\n\\n3. **Coursera**  \\n   - Website: [coursera.org](https://www.coursera.org)\\n   - Description: Offers a wide range of online courses from universities on programming topics. You can find everything from beginner to advanced courses in several programming languages.\\n\\n4. **edX**  \\n   - Website: [edx.org](https://www.edx.org)\\n   - Description: Provides free online courses from universities around the world. You can learn about computer science, programming, data analysis, and much more.\\n\\n5. **Khan Academy**  \\n   - Website: [khanacademy.org](https://www.khanacademy.org)\\n   - Description: Offers comprehensive coding lessons especially targeted toward beginners in a fun, interactive environment. Topics include HTML/CSS, JavaScript, and SQL.\\n\\n### Additional Tips:\\n- **Practice Regularly**: Consistency is key to mastering coding. Try to code every day, even if it's just for a short time.\\n- **Join Coding Communities**: Platforms like Stack Overflow, Reddit (like r/learnprogramming), and GitHub provide opportunities to connect with other learners and experienced developers.\\n- **Work on Projects**: Apply what you learn by building small projects, which solidifies knowledge and adds to your portfolio.\\n\\nHappy coding!\""
      ]
     },
     "execution_count": 13,
     "metadata": {},
     "output_type": "execute_result"
    }
   ],
   "source": [
    "from langchain_core.prompts import ChatPromptTemplate\n",
    "from langchain_core.output_parsers import StrOutputParser\n",
    "from langchain_openai import ChatOpenAI\n",
    "from langchain_core.runnables import RunnablePassthrough\n",
    "\n",
    "\n",
    "prompt = ChatPromptTemplate.from_template(\n",
    "    \"Tell me about {topic} and share the resources as well, give me {resource_count}\"\n",
    ")\n",
    "llm = ChatOpenAI(model=\"gpt-4o-mini\")\n",
    "\n",
    "chain = prompt | llm | StrOutputParser()\n",
    "chain.invoke({\"topic\": \"Coding\", \"resource_count\": 5})"
   ]
  },
  {
   "cell_type": "markdown",
   "metadata": {},
   "source": [
    "## Chain 5\n"
   ]
  },
  {
   "cell_type": "code",
   "execution_count": 18,
   "metadata": {},
   "outputs": [
    {
     "data": {
      "text/plain": [
       "(MobileReview(phone_model='iPhone 16 Pro Max', rating=4.8, pros=['Stunning Super Retina XDR OLED display with 2000 nits peak brightness', 'Improved battery life with efficient performance', 'High-quality camera system with advanced image processing', 'Titanium frame for durability and lightweight feel', 'New camera control button enhances usability'], cons=['Incremental upgrade from the previous model', 'High price point compared to competitors', 'No major changes in design', 'Limited customization options outside of software enhancements'], summary='The iPhone 16 Pro Max delivers exceptional performance and display quality with its A18 Pro chip and advanced camera system, although it may not be a complete overhaul from its predecessor.'),\n",
       " 'iPhone 16 Pro Max',\n",
       " 4.8,\n",
       " ['Stunning Super Retina XDR OLED display with 2000 nits peak brightness',\n",
       "  'Improved battery life with efficient performance',\n",
       "  'High-quality camera system with advanced image processing',\n",
       "  'Titanium frame for durability and lightweight feel',\n",
       "  'New camera control button enhances usability'],\n",
       " ['Incremental upgrade from the previous model',\n",
       "  'High price point compared to competitors',\n",
       "  'No major changes in design',\n",
       "  'Limited customization options outside of software enhancements'],\n",
       " 'The iPhone 16 Pro Max delivers exceptional performance and display quality with its A18 Pro chip and advanced camera system, although it may not be a complete overhaul from its predecessor.')"
      ]
     },
     "execution_count": 18,
     "metadata": {},
     "output_type": "execute_result"
    }
   ],
   "source": [
    "from typing import List\n",
    "from langchain_openai import ChatOpenAI\n",
    "from pydantic import BaseModel, Field\n",
    "\n",
    "\n",
    "class MobileReview(BaseModel):\n",
    "    phone_model: str = Field(description=\"Name and model of the phone\")\n",
    "    rating: float = Field(description=\"Overall rating out of 5\")\n",
    "    pros: List[str] = Field(description=\"List of positive aspects\")\n",
    "    cons: List[str] = Field(description=\"List of negative aspects\")\n",
    "    summary: str = Field(description=\"Bried summary of the review\")\n",
    "\n",
    "\n",
    "review_text: str = \"\"\"\n",
    "    Overview of the iPhone 16 Pro Max\n",
    "        The iPhone 16 Pro Max, launched in September 2024, represents Apple's latest flagship smartphone, featuring significant enhancements in display technology, camera capabilities, and overall performance.\n",
    "    Key Specifications\n",
    "        Design and Build:\n",
    "            Finish Options: Black Titanium, White Titanium, Natural Titanium, Desert Titanium.\n",
    "            Dimensions:\n",
    "                Width: 77.6 mm (3.06 inches)\n",
    "                Height: 163 mm (6.42 inches)\n",
    "                Depth: 8.25 mm (0.32 inches)\n",
    "                Weight: 227 grams (7.99 ounces).\n",
    "            Material: Titanium frame with a Ceramic Shield front and textured matte glass back.\n",
    "        Display:\n",
    "            Type: Super Retina XDR OLED.\n",
    "            Size: 6.9 inches (diagonal).\n",
    "            Resolution: 2868 x 1320 pixels at 460 ppi.\n",
    "            Features:\n",
    "                Dynamic Island and Always-On display.\n",
    "                ProMotion technology with adaptive refresh rates from 1 Hz to 120 Hz.\n",
    "                Peak brightness of up to 2,000 nits for outdoor visibility.\n",
    "        Performance:\n",
    "            Chipset: A18 Pro chip.\n",
    "            RAM: 8 GB.\n",
    "            Battery: Improved battery life with a capacity of 4685 mAh, offering over 18 hours of usage on typical conditions157.\n",
    "        Camera System:\n",
    "            Rear Camera: Triple-lens system with a primary sensor featuring a ƒ/1.9 aperture, enhanced by Photonic Engine and Smart HDR5 for superior image processing.\n",
    "            Front Camera: High-resolution sensor capable of capturing detailed selfies even in low light conditions.\n",
    "        Storage Options:\n",
    "            Available capacities include 256GB, 512GB, and 1TB.\n",
    "    Notable Features\n",
    "        Camera Control Button: A new hardware feature allows quick access to the camera app and instant photo or video capture by pressing the button located below the power button25.\n",
    "        Software Enhancements: Ships with iOS 18, introducing more customization options for app icons on the home screen and improved user interface features2.\n",
    "        Audio Capabilities: Supports Spatial Audio recording and includes a four-microphone array for high-quality sound capture, making it suitable for video production24.\n",
    "    Performance Insights\n",
    "        Reviewers have noted that while the iPhone 16 Pro Max is an incremental upgrade compared to its predecessor, it excels in display quality and battery efficiency. The screen is praised for its color accuracy and brightness levels, making it one of the best smartphone displays available25. Additionally, the improved battery life has been highlighted as a significant advantage over previous models5.\n",
    "        In summary, the iPhone 16 Pro Max combines advanced technology with user-friendly features, making it a compelling choice for those seeking a premium smartphone experience.\n",
    "\"\"\"\n",
    "\n",
    "llm = ChatOpenAI(model=\"gpt-4o-mini\")\n",
    "structured_llm = llm.with_structured_output(MobileReview)\n",
    "output: MobileReview = structured_llm.invoke(review_text)\n",
    "\n",
    "output, output.phone_model, output.rating, output.pros, output.cons, output.summary"
   ]
  },
  {
   "cell_type": "markdown",
   "metadata": {},
   "source": [
    "## Chain 6\n"
   ]
  },
  {
   "cell_type": "code",
   "execution_count": 19,
   "metadata": {},
   "outputs": [
    {
     "data": {
      "text/plain": [
       "(Joke(joke='Why do programmers prefer dark mode? Because light attracts bugs!', explaination=\"This joke is funny because it plays on the double meaning of 'bugs'—insects are attracted to light (hence the dark mode preference), but in programming, 'bugs' refer to errors in the code. It's a clever twist that connects a common coding preference with a light-hearted observation about coding issues.\", rating=4.0),\n",
       " 'Why do programmers prefer dark mode? Because light attracts bugs!',\n",
       " \"This joke is funny because it plays on the double meaning of 'bugs'—insects are attracted to light (hence the dark mode preference), but in programming, 'bugs' refer to errors in the code. It's a clever twist that connects a common coding preference with a light-hearted observation about coding issues.\",\n",
       " 4.0)"
      ]
     },
     "execution_count": 19,
     "metadata": {},
     "output_type": "execute_result"
    }
   ],
   "source": [
    "from langchain_core.prompts import ChatPromptTemplate\n",
    "from langchain_openai import ChatOpenAI\n",
    "from pydantic import BaseModel, Field\n",
    "\n",
    "\n",
    "class Joke(BaseModel):\n",
    "    joke: str = Field(description=\"Joke itself\")\n",
    "    explaination: str = Field(description=\"How is this funny?\")\n",
    "    rating: float = Field(description=\"Overall rating out of 5\")\n",
    "\n",
    "llm = ChatOpenAI(model=\"gpt-4o-mini\")\n",
    "structured_llm = llm.with_structured_output(Joke)\n",
    "prompt = ChatPromptTemplate.from_template(\"Tell me a short joke about {topic}\")\n",
    "\n",
    "chain = prompt | structured_llm\n",
    "output: Joke = chain.invoke({\"topic\": \"Coding\"})\n",
    "\n",
    "output, output.joke, output.explaination, output.rating"
   ]
  },
  {
   "cell_type": "code",
   "execution_count": null,
   "metadata": {},
   "outputs": [],
   "source": []
  }
 ],
 "metadata": {
  "kernelspec": {
   "display_name": "Python 3",
   "language": "python",
   "name": "python3"
  },
  "language_info": {
   "codemirror_mode": {
    "name": "ipython",
    "version": 3
   },
   "file_extension": ".py",
   "mimetype": "text/x-python",
   "name": "python",
   "nbconvert_exporter": "python",
   "pygments_lexer": "ipython3",
   "version": "3.11.11"
  }
 },
 "nbformat": 4,
 "nbformat_minor": 2
}
